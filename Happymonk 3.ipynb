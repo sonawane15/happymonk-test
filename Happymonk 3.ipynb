{
 "cells": [
  {
   "cell_type": "code",
   "execution_count": null,
   "id": "8a41c2f8",
   "metadata": {},
   "outputs": [],
   "source": [
    "#vertical shift image augmentation\n",
    "from numpy import expand_dims\n",
    "from keras.preprocessing.image import load_img\n",
    "from keras.preprocessing.image import img_to_array\n",
    "from keras.preprocessing.image import ImageDataGenerator\n",
    "from matplotlib import pyplot\n",
    "img = load_img('bird.jpg')\n",
    "data = img_to_array(img)\n",
    "samples = expand_dims(data, 0)\n",
    "datagen = ImageDataGenerator(height_shift_range=0.5)\n",
    "it = datagen.flow(samples, batch_size=1)\n",
    "for i in range(9):\n",
    "    pyplot.subplot(330 + 1 + i)\n",
    "    batch = it.next()\n",
    "    image = batch[0].astype('uint8')\n",
    "    pyplot.imshow(image)\n",
    "pyplot.show()"
   ]
  },
  {
   "cell_type": "code",
   "execution_count": null,
   "id": "4e2c2b29",
   "metadata": {},
   "outputs": [],
   "source": [
    "#horizontal flip image augmentation\n",
    "from numpy import expand_dims\n",
    "from keras.preprocessing.image import load_img\n",
    "from keras.preprocessing.image import img_to_array\n",
    "from keras.preprocessing.image import ImageDataGenerator\n",
    "from matplotlib import pyplot\n",
    "img = load_img('bird.jpg')\n",
    "data = img_to_array(img)\n",
    "samples = expand_dims(data, 0)\n",
    "datagen = ImageDataGenerator(horizontal_flip=True)\n",
    "it = datagen.flow(samples, batch_size=1)\n",
    "for i in range(9):\n",
    "    pyplot.subplot(330 + 1 + i)\n",
    "    batch = it.next()\n",
    "    image = batch[0].astype('uint8')\n",
    "    pyplot.imshow(image)\n",
    "pyplot.show()"
   ]
  },
  {
   "cell_type": "code",
   "execution_count": null,
   "id": "1be81baa",
   "metadata": {},
   "outputs": [],
   "source": [
    "#rotation image augmentation\n",
    "from numpy import expand_dims\n",
    "from keras.preprocessing.image import load_img\n",
    "from keras.preprocessing.image import img_to_array\n",
    "from keras.preprocessing.image import ImageDataGenerator\n",
    "from matplotlib import pyplot\n",
    "img = load_img('bird.jpg')\n",
    "data = img_to_array(img)\n",
    "samples = expand_dims(data, 0)\n",
    "datagen = ImageDataGenerator(rotation_range=90)\n",
    "it = datagen.flow(samples, batch_size=1)\n",
    "for i in range(9):\n",
    "\n",
    "    pyplot.subplot(330 + 1 + i)\n",
    "    batch = it.next()\n",
    "    image = batch[0].astype('uint8')\n",
    "    pyplot.imshow(image)\n",
    "pyplot.show()"
   ]
  }
 ],
 "metadata": {
  "kernelspec": {
   "display_name": "Python 3 (ipykernel)",
   "language": "python",
   "name": "python3"
  },
  "language_info": {
   "codemirror_mode": {
    "name": "ipython",
    "version": 3
   },
   "file_extension": ".py",
   "mimetype": "text/x-python",
   "name": "python",
   "nbconvert_exporter": "python",
   "pygments_lexer": "ipython3",
   "version": "3.8.10"
  }
 },
 "nbformat": 4,
 "nbformat_minor": 5
}

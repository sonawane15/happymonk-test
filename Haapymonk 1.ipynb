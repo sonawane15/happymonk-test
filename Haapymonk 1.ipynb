{
 "cells": [
  {
   "cell_type": "code",
   "execution_count": 2,
   "id": "b888c544",
   "metadata": {},
   "outputs": [
    {
     "ename": "SyntaxError",
     "evalue": "invalid syntax (Temp/ipykernel_7660/3963921273.py, line 1)",
     "output_type": "error",
     "traceback": [
      "\u001b[1;36m  File \u001b[1;32m\"C:\\Users\\Dell\\AppData\\Local\\Temp/ipykernel_7660/3963921273.py\"\u001b[1;36m, line \u001b[1;32m1\u001b[0m\n\u001b[1;33m    [9:56, 07/01/2022] Python Aniket: import pandas as pd\u001b[0m\n\u001b[1;37m      ^\u001b[0m\n\u001b[1;31mSyntaxError\u001b[0m\u001b[1;31m:\u001b[0m invalid syntax\n"
     ]
    }
   ],
   "source": [
    "[9:56, 07/01/2022] Python Aniket: import pandas as pd\n",
    "import numpy as np\n",
    "from sklearn.datasets import load_iris\n",
    "from sklearn.tree import DecisionTreeClassifier\n",
    "from sklearn.model_selection import train_test_splitdata = load_iris()\n",
    "print('Classes to predict: ', data.target_names)\n",
    "Classes to predict:  ['setosa' 'versicolor' 'virginica']\n",
    "#Extracting data attributes\n",
    "X = data.data\n",
    "### Extracting target/ class labels\n",
    "y = data.target\n",
    "print('Number of examples in the data:', X.shape[0])\n",
    "Number of examples in the data: 150\n",
    "#Using the train_test_split to create train and test sets.\n",
    "X_train, X_test, y_train, y_test = train_test_split(X, y, random_state = 47, test_size = 0.25)\n",
    "print(len(X_train))\n",
    "print(len(X_test))\n",
    "112\n",
    "38\n",
    "#Importing the Decision tree classifier from the sklearn library.\n",
    "from sklearn.tree import DecisionTreeClassifier\n",
    "clf = DecisionTreeClassifier(criterion = 'entropy')\n",
    "clf.fit(X_train, y_train)\n",
    "DecisionTreeClassifier(ccp_alpha=0.0, class_weight=None, criterion='entropy',\n",
    "                       max_depth=None, max_features=None, max_leaf_nodes=None,\n",
    "                       min_impurity_decrease=0.0, min_impurity_split=None,\n",
    "                       min_samples_leaf=1, min_samples_split=2,\n",
    "                       min_weight_fraction_leaf=0.0, presort='deprecated',\n",
    "                       random_state=None, splitter='best')\n",
    "y_pred = clf.predict(X_test)\n",
    "print(y_pred)\n",
    "[0 0 1 0 0 2 1 2 1 0 2 0 1 2 2 2 1 0 0 0 2 1 2 1 2 2 1 2 0 0 2 1 2 0 1 0 0\n",
    " 0]\n",
    " # accuracy = number of correct predictions/ total number of predictions \n",
    "\n",
    "from sklearn.metrics import accuracy_score\n",
    "print('Accuracy Score on test data: ', accuracy_score(y_true=y_test, y_pred=y_pred))\n",
    "Accuracy Score on test data:  0.9473684210526315\n",
    "for i in range(0, len(y_pred)):\n",
    "    if y_test[i] != y_pred[i]:\n",
    "        print(\"Actual: \" + str(y_test[i]))\n",
    "        print(\"Predicted: \" + str(y_pred[i]))\n",
    "Actual: 2\n",
    "Predicted: 1\n",
    "Actual: 2\n",
    "Predicted: 1\n",
    "['setosa' 'versicolor' 'virginica']\n",
    "36/38\n",
    "0.9473684210526315\n",
    "100*0.94\n",
    "94.0"
   ]
  },
  {
   "cell_type": "code",
   "execution_count": null,
   "id": "bbd33309",
   "metadata": {},
   "outputs": [],
   "source": []
  }
 ],
 "metadata": {
  "kernelspec": {
   "display_name": "Python 3 (ipykernel)",
   "language": "python",
   "name": "python3"
  },
  "language_info": {
   "codemirror_mode": {
    "name": "ipython",
    "version": 3
   },
   "file_extension": ".py",
   "mimetype": "text/x-python",
   "name": "python",
   "nbconvert_exporter": "python",
   "pygments_lexer": "ipython3",
   "version": "3.8.10"
  }
 },
 "nbformat": 4,
 "nbformat_minor": 5
}
